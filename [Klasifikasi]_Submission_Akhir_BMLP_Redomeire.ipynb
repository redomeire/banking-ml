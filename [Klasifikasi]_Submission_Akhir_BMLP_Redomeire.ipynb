{
 "cells": [
  {
   "cell_type": "markdown",
   "metadata": {
    "id": "0tvAKGat01Sd"
   },
   "source": [
    "# **Penting**\n",
    "- Jangan mengubah atau menambahkan cell text yang sudah disediakan, Anda hanya perlu mengerjakan cell code yang sudah disediakan.\n",
    "- Pastikan seluruh kriteria memiliki output yang sesuai, karena jika tidak ada output dianggap tidak selesai.\n",
    "- Misal, Anda menggunakan df = df.dropna() silakan gunakan df.isnull().sum() sebagai tanda sudah berhasil. Silakan sesuaikan seluruh output dengan perintah yang sudah disediakan.\n",
    "- Pastikan Anda melakukan Run All sebelum mengirimkan submission untuk memastikan seluruh cell berjalan dengan baik.\n",
    "- Pastikan Anda menggunakan variabel df dari awal sampai akhir dan tidak diperbolehkan mengganti nama variabel tersebut.\n",
    "- Hapus simbol pagar (#) pada kode yang bertipe komentar jika Anda menerapkan kriteria tambahan\n",
    "- Biarkan simbol pagar (#) jika Anda tidak menerapkan kriteria tambahan\n",
    "- Pastikan Anda mengerjakan sesuai section yang sudah diberikan tanpa mengubah judul atau header yang disediakan."
   ]
  },
  {
   "cell_type": "markdown",
   "metadata": {
    "id": "fKADPWcFKlj3"
   },
   "source": [
    "# **1. Import Library**\n",
    "Pada tahap ini, Anda perlu mengimpor beberapa pustaka (library) Python yang dibutuhkan untuk analisis data dan pembangunan model machine learning."
   ]
  },
  {
   "cell_type": "code",
   "execution_count": 51,
   "metadata": {
    "id": "BlmvjLY9M4Yj"
   },
   "outputs": [],
   "source": [
    "#Type your code here\n",
    "import pandas as pd\n",
    "\n",
    "from sklearn.model_selection import train_test_split\n",
    "from sklearn.tree import DecisionTreeClassifier\n",
    "from sklearn.ensemble import RandomForestClassifier\n",
    "from sklearn.metrics import classification_report\n",
    "from sklearn.model_selection import GridSearchCV"
   ]
  },
  {
   "cell_type": "markdown",
   "metadata": {
    "id": "f3YIEnAFKrKL"
   },
   "source": [
    "# **2. Memuat Dataset dari Hasil Clustering**\n",
    "Memuat dataset hasil clustering dari file CSV ke dalam variabel DataFrame."
   ]
  },
  {
   "cell_type": "code",
   "execution_count": 52,
   "metadata": {
    "id": "GHCGNTyrM5fS"
   },
   "outputs": [],
   "source": [
    "# Gunakan dataset hasil clustering yang memiliki fitur Target\n",
    "# Silakan gunakan dataset data_clustering jika tidak menerapkan Interpretasi Hasil Clustering [Advanced]\n",
    "# Silakan gunakan dataset data_clustering_inverse jika menerapkan Interpretasi Hasil Clustering [Advanced]\n",
    "# Lengkapi kode berikut\n",
    "df = pd.read_csv(\"data_clustering.csv\")"
   ]
  },
  {
   "cell_type": "code",
   "execution_count": 53,
   "metadata": {
    "id": "bCsep0NZ0LUf"
   },
   "outputs": [
    {
     "data": {
      "text/html": [
       "<div>\n",
       "<style scoped>\n",
       "    .dataframe tbody tr th:only-of-type {\n",
       "        vertical-align: middle;\n",
       "    }\n",
       "\n",
       "    .dataframe tbody tr th {\n",
       "        vertical-align: top;\n",
       "    }\n",
       "\n",
       "    .dataframe thead th {\n",
       "        text-align: right;\n",
       "    }\n",
       "</style>\n",
       "<table border=\"1\" class=\"dataframe\">\n",
       "  <thead>\n",
       "    <tr style=\"text-align: right;\">\n",
       "      <th></th>\n",
       "      <th>TransactionAmount</th>\n",
       "      <th>TransactionType</th>\n",
       "      <th>Location</th>\n",
       "      <th>Channel</th>\n",
       "      <th>CustomerAge</th>\n",
       "      <th>CustomerOccupation</th>\n",
       "      <th>TransactionDuration</th>\n",
       "      <th>LoginAttempts</th>\n",
       "      <th>AccountBalance</th>\n",
       "      <th>DaysSinceLastTransaction</th>\n",
       "      <th>AgeGroup</th>\n",
       "      <th>TransactionAmountGroup</th>\n",
       "      <th>Target</th>\n",
       "    </tr>\n",
       "  </thead>\n",
       "  <tbody>\n",
       "    <tr>\n",
       "      <th>0</th>\n",
       "      <td>-0.970546</td>\n",
       "      <td>1</td>\n",
       "      <td>36</td>\n",
       "      <td>0</td>\n",
       "      <td>1.419862</td>\n",
       "      <td>0</td>\n",
       "      <td>-0.548393</td>\n",
       "      <td>-0.212591</td>\n",
       "      <td>-0.000315</td>\n",
       "      <td>0.795216</td>\n",
       "      <td>2</td>\n",
       "      <td>1</td>\n",
       "      <td>0</td>\n",
       "    </tr>\n",
       "    <tr>\n",
       "      <th>1</th>\n",
       "      <td>0.268963</td>\n",
       "      <td>1</td>\n",
       "      <td>15</td>\n",
       "      <td>0</td>\n",
       "      <td>1.307715</td>\n",
       "      <td>0</td>\n",
       "      <td>0.307960</td>\n",
       "      <td>-0.212591</td>\n",
       "      <td>2.218381</td>\n",
       "      <td>0.072747</td>\n",
       "      <td>2</td>\n",
       "      <td>2</td>\n",
       "      <td>2</td>\n",
       "    </tr>\n",
       "    <tr>\n",
       "      <th>2</th>\n",
       "      <td>-0.586526</td>\n",
       "      <td>1</td>\n",
       "      <td>23</td>\n",
       "      <td>2</td>\n",
       "      <td>-1.439874</td>\n",
       "      <td>3</td>\n",
       "      <td>-0.905207</td>\n",
       "      <td>-0.212591</td>\n",
       "      <td>-1.024091</td>\n",
       "      <td>-0.049228</td>\n",
       "      <td>1</td>\n",
       "      <td>2</td>\n",
       "      <td>0</td>\n",
       "    </tr>\n",
       "    <tr>\n",
       "      <th>3</th>\n",
       "      <td>-0.387294</td>\n",
       "      <td>1</td>\n",
       "      <td>33</td>\n",
       "      <td>2</td>\n",
       "      <td>-1.047361</td>\n",
       "      <td>3</td>\n",
       "      <td>-1.347656</td>\n",
       "      <td>-0.212591</td>\n",
       "      <td>0.886694</td>\n",
       "      <td>0.570031</td>\n",
       "      <td>1</td>\n",
       "      <td>2</td>\n",
       "      <td>0</td>\n",
       "    </tr>\n",
       "    <tr>\n",
       "      <th>4</th>\n",
       "      <td>-0.972736</td>\n",
       "      <td>0</td>\n",
       "      <td>1</td>\n",
       "      <td>2</td>\n",
       "      <td>0.018031</td>\n",
       "      <td>3</td>\n",
       "      <td>1.121495</td>\n",
       "      <td>-0.212591</td>\n",
       "      <td>0.594263</td>\n",
       "      <td>-0.968734</td>\n",
       "      <td>3</td>\n",
       "      <td>1</td>\n",
       "      <td>0</td>\n",
       "    </tr>\n",
       "  </tbody>\n",
       "</table>\n",
       "</div>"
      ],
      "text/plain": [
       "   TransactionAmount  TransactionType  ...  TransactionAmountGroup  Target\n",
       "0          -0.970546                1  ...                       1       0\n",
       "1           0.268963                1  ...                       2       2\n",
       "2          -0.586526                1  ...                       2       0\n",
       "3          -0.387294                1  ...                       2       0\n",
       "4          -0.972736                0  ...                       1       0\n",
       "\n",
       "[5 rows x 13 columns]"
      ]
     },
     "execution_count": 53,
     "metadata": {},
     "output_type": "execute_result"
    }
   ],
   "source": [
    "# Tampilkan 5 baris pertama dengan function head.\n",
    "df.head()"
   ]
  },
  {
   "cell_type": "markdown",
   "metadata": {
    "id": "KkPem5eWL2UP"
   },
   "source": [
    "# **3. Data Splitting**\n",
    "Tahap Data Splitting bertujuan untuk memisahkan dataset menjadi dua bagian: data latih (training set) dan data uji (test set)."
   ]
  },
  {
   "cell_type": "code",
   "execution_count": 54,
   "metadata": {
    "id": "OubAW-7ONKVj"
   },
   "outputs": [
    {
     "name": "stdout",
     "output_type": "stream",
     "text": [
      "Jumlah data:  2401\n",
      "Jumlah data latih:  1920\n",
      "Jumlah data test:  481\n"
     ]
    }
   ],
   "source": [
    "# Menggunakan train_test_split() untuk melakukan pembagian dataset.\n",
    "# \n",
    "X = df.drop(columns=['Target'])\n",
    "y = df['Target']\n",
    "X_train, X_test, y_train, y_test = train_test_split(X, y, test_size=0.2, random_state=1)\n",
    "\n",
    "print(\"Jumlah data: \",len(X))\n",
    "print(\"Jumlah data latih: \",len(X_train))\n",
    "print(\"Jumlah data test: \",len(X_test))"
   ]
  },
  {
   "cell_type": "markdown",
   "metadata": {
    "id": "IVPbB03CMhTT"
   },
   "source": [
    "# **4. Membangun Model Klasifikasi**\n",
    "Setelah memilih algoritma klasifikasi yang sesuai, langkah selanjutnya adalah melatih model menggunakan data latih.\n",
    "\n",
    "Berikut adalah rekomendasi tahapannya.\n",
    "1. Menggunakan algoritma klasifikasi yaitu Decision Tree.\n",
    "2. Latih model menggunakan data yang sudah dipisah."
   ]
  },
  {
   "cell_type": "code",
   "execution_count": 55,
   "metadata": {
    "id": "4JYxBe87NLDk"
   },
   "outputs": [
    {
     "name": "stdout",
     "output_type": "stream",
     "text": [
      "Model Decision Tree berhasil dibuat\n"
     ]
    }
   ],
   "source": [
    "# Buatlah model klasifikasi menggunakan Decision Tree\n",
    "model = DecisionTreeClassifier().fit(X_train, y_train)\n",
    "print(\"Model Decision Tree berhasil dibuat\")"
   ]
  },
  {
   "cell_type": "code",
   "execution_count": 56,
   "metadata": {
    "id": "P_AakAxghYv-"
   },
   "outputs": [
    {
     "data": {
      "text/plain": [
       "['decision_tree_model.h5']"
      ]
     },
     "execution_count": 56,
     "metadata": {},
     "output_type": "execute_result"
    }
   ],
   "source": [
    "# Menyimpan Model\n",
    "import joblib\n",
    "joblib.dump(model, 'decision_tree_model.h5')"
   ]
  },
  {
   "cell_type": "markdown",
   "metadata": {
    "id": "epO4HhrzBXMg"
   },
   "source": [
    "# **5. Memenuhi Kriteria Skilled dan Advanced dalam Membangun Model Klasifikasi**\n",
    "\n"
   ]
  },
  {
   "cell_type": "markdown",
   "metadata": {
    "id": "DNOEZk24uiXu"
   },
   "source": [
    "**Biarkan kosong jika tidak menerapkan kriteria skilled atau advanced**"
   ]
  },
  {
   "cell_type": "code",
   "execution_count": 57,
   "metadata": {
    "id": "kB_8LIWMATl6"
   },
   "outputs": [],
   "source": [
    "# Melatih model menggunakan algoritma klasifikasi scikit-learn selain Decision Tree.\n",
    "model_rf = RandomForestClassifier().fit(X_train, y_train)"
   ]
  },
  {
   "cell_type": "code",
   "execution_count": 58,
   "metadata": {
    "id": "bRlKm5BVAT91"
   },
   "outputs": [
    {
     "name": "stdout",
     "output_type": "stream",
     "text": [
      "Hasil Evaluasi Model Decision Tree\n",
      "              precision    recall  f1-score   support\n",
      "\n",
      "           0       1.00      1.00      1.00       327\n",
      "           1       1.00      1.00      1.00        23\n",
      "           2       1.00      1.00      1.00       131\n",
      "\n",
      "    accuracy                           1.00       481\n",
      "   macro avg       1.00      1.00      1.00       481\n",
      "weighted avg       1.00      1.00      1.00       481\n",
      "\n",
      "Hasil Evaluasi Model Random Forest\n",
      "              precision    recall  f1-score   support\n",
      "\n",
      "           0       1.00      1.00      1.00       327\n",
      "           1       1.00      1.00      1.00        23\n",
      "           2       1.00      1.00      1.00       131\n",
      "\n",
      "    accuracy                           1.00       481\n",
      "   macro avg       1.00      1.00      1.00       481\n",
      "weighted avg       1.00      1.00      1.00       481\n",
      "\n"
     ]
    }
   ],
   "source": [
    "# Menampilkan hasil evaluasi akurasi, presisi, recall, dan F1-Score pada seluruh algoritma yang sudah dibuat.\n",
    "y_pred_dt = model.predict(X_test)\n",
    "y_pred_rf = model_rf.predict(X_test)\n",
    "print(\"Hasil Evaluasi Model Decision Tree\")\n",
    "print(classification_report(y_test, y_pred_dt))\n",
    "print(\"Hasil Evaluasi Model Random Forest\")\n",
    "print(classification_report(y_test, y_pred_rf))"
   ]
  },
  {
   "cell_type": "code",
   "execution_count": 59,
   "metadata": {
    "id": "dUPItkbXBNkO"
   },
   "outputs": [
    {
     "data": {
      "text/plain": [
       "['explore_random_forest_classification.h5']"
      ]
     },
     "execution_count": 59,
     "metadata": {},
     "output_type": "execute_result"
    }
   ],
   "source": [
    "# Menyimpan Model Selain Decision Tree\n",
    "# Model ini bisa lebih dari satu\n",
    "import joblib\n",
    "joblib.dump(model_rf, 'explore_random_forest_classification.h5')"
   ]
  },
  {
   "cell_type": "markdown",
   "metadata": {
    "id": "u23H2guj-h9h"
   },
   "source": [
    "Hyperparameter Tuning Model\n",
    "\n",
    "Pilih salah satu algoritma yang ingin Anda tuning"
   ]
  },
  {
   "cell_type": "code",
   "execution_count": null,
   "metadata": {
    "id": "dFCTxJJq-m-l"
   },
   "outputs": [
    {
     "name": "stdout",
     "output_type": "stream",
     "text": [
      "Fitting 3 folds for each of 108 candidates, totalling 324 fits\n"
     ]
    }
   ],
   "source": [
    "# Lakukan Hyperparameter Tuning dan Latih ulang.\n",
    "# Lakukan dalam satu cell ini saja.\n",
    "param_grid = {\n",
    "    'n_estimators': [50, 100, 200],\n",
    "    'max_depth': [None, 10, 20, 30],\n",
    "    'min_samples_split': [2, 5, 10],\n",
    "    'min_samples_leaf': [1, 2, 4]\n",
    "}\n",
    "\n",
    "grid_search = GridSearchCV(estimator=RandomForestClassifier(), param_grid=param_grid,\n",
    "                           cv=3, n_jobs=-1, verbose=2)\n",
    "grid_search.fit(X_train, y_train)\n",
    "\n",
    "print(\"Best Hyperparameters: \", grid_search.best_params_)\n",
    "\n",
    "best_model = grid_search.best_estimator_\n",
    "\n",
    "grid_search_score = best_model.score(X_test, y_test)\n",
    "print(\"Hasil Evaluasi Model Random Forest Setelah Hyperparameter Tuning: \", grid_search_score)"
   ]
  },
  {
   "cell_type": "code",
   "execution_count": null,
   "metadata": {
    "id": "1g6EPSSWxjcQ"
   },
   "outputs": [
    {
     "name": "stdout",
     "output_type": "stream",
     "text": [
      "              precision    recall  f1-score   support\n",
      "\n",
      "           0       1.00      1.00      1.00       327\n",
      "           1       1.00      1.00      1.00        23\n",
      "           2       1.00      1.00      1.00       131\n",
      "\n",
      "    accuracy                           1.00       481\n",
      "   macro avg       1.00      1.00      1.00       481\n",
      "weighted avg       1.00      1.00      1.00       481\n",
      "\n"
     ]
    }
   ],
   "source": [
    "# Menampilkan hasil evaluasi akurasi, presisi, recall, dan F1-Score pada algoritma yang sudah dituning.\n",
    "y_pred_tuned = best_model.predict(X_test)\n",
    "print(classification_report(y_test, y_pred_tuned))"
   ]
  },
  {
   "cell_type": "code",
   "execution_count": null,
   "metadata": {
    "id": "7UJNcVP--n7S"
   },
   "outputs": [
    {
     "data": {
      "text/plain": [
       "['tuning_classification.h5']"
      ]
     },
     "execution_count": 50,
     "metadata": {},
     "output_type": "execute_result"
    }
   ],
   "source": [
    "# Menyimpan Model hasil tuning\n",
    "import joblib\n",
    "joblib.dump(best_model, 'tuning_classification.h5')"
   ]
  },
  {
   "cell_type": "markdown",
   "metadata": {
    "id": "0Hs4Xp4OiGEk"
   },
   "source": [
    "End of Code"
   ]
  }
 ],
 "metadata": {
  "colab": {
   "provenance": []
  },
  "kernelspec": {
   "display_name": "main-ds",
   "language": "python",
   "name": "python3"
  },
  "language_info": {
   "codemirror_mode": {
    "name": "ipython",
    "version": 3
   },
   "file_extension": ".py",
   "mimetype": "text/x-python",
   "name": "python",
   "nbconvert_exporter": "python",
   "pygments_lexer": "ipython3",
   "version": "3.9.23"
  }
 },
 "nbformat": 4,
 "nbformat_minor": 0
}
